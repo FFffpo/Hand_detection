{
 "cells": [
  {
   "cell_type": "code",
   "execution_count": null,
   "metadata": {},
   "outputs": [],
   "source": [
    "import cv2\n",
    "import numpy as np \n",
    "import tensorflow as tf \n",
    "import tflite_runtime.interpreter as tflite\n",
    "import time\n",
    "\n",
    "tf.__version__"
   ]
  },
  {
   "cell_type": "code",
   "execution_count": null,
   "metadata": {},
   "outputs": [],
   "source": [
    "# 加载TensorflowLite模型\n",
    "interpreter = tf.lite.Interpreter(model_path='hand_landmark.tflite')\n",
    "interpreter.allocate_tensors()\n",
    "\n",
    "# 输入输出信息参考ModelCard\n",
    "input_details = interpreter.get_input_details()\n",
    "print(str(input_details))\n",
    "output_details = interpreter.get_output_details()\n",
    "print(str(output_details))"
   ]
  },
  {
   "cell_type": "code",
   "execution_count": null,
   "metadata": {},
   "outputs": [],
   "source": [
    "# 使用1张图片测试\n",
    "img_path='test.jpg'\n",
    "\n",
    "img=cv2.imread(img_path)\n",
    "img = cv2.cvtColor(cv2.flip(img, 1), cv2.COLOR_BGR2RGB)\n",
    "img=cv2.resize(img,(224,224))\n",
    "\n",
    "img_array=np.array(img)\n",
    "img_array=img_array.astype('float32')\n",
    "img_array/=255\n",
    "img_array=np.expand_dims(img_array,axis=0)\n",
    "\n",
    "print(img_array.shape)\n",
    "\n",
    "interpreter.set_tensor(input_details[0]['index'], img_array)\n",
    "interpreter.invoke()\n",
    "output_data = interpreter.get_tensor(output_details[0]['index'])\n",
    "\n",
    "print(output_data)\n",
    "\n",
    "\n",
    "# 在图片中添加骨骼点\n",
    "for i in range(21):\n",
    "    x=int(output_data[0][3*i])\n",
    "    y=int(output_data[0][3*i+1])\n",
    "    cor=(x,y)\n",
    "    cv2.circle(img,cor,1,(0,0,255),3)\n",
    "\n",
    "# 转换为BGR输出\n",
    "img = cv2.cvtColor(cv2.flip(img, 1), cv2.COLOR_RGB2BGR)\n",
    "cv2.imwrite('test_hand.jpeg', img)\n"
   ]
  },
  {
   "cell_type": "code",
   "execution_count": null,
   "metadata": {},
   "outputs": [],
   "source": [
    "def Show_frame(img,cors):\n",
    "    for i in range(21):\n",
    "        cor=(int(cors[3*i]),int(cors[3*i+1]))\n",
    "        cv2.circle(img,cor,1,(0,0,255),3)\n"
   ]
  },
  {
   "cell_type": "code",
   "execution_count": null,
   "metadata": {},
   "outputs": [],
   "source": [
    "cap = cv2.VideoCapture(0)\n",
    "\n",
    "while cap.isOpened():\n",
    "\n",
    "  t_start=time.time()\n",
    "\n",
    "  success, img = cap.read()\n",
    "  if not success:\n",
    "    print(\"Ignoring empty camera frame.\")\n",
    "    continue\n",
    "  img = cv2.cvtColor(cv2.flip(img, 1), cv2.COLOR_BGR2RGB)\n",
    "\n",
    "  img=cv2.resize(img,(224,224))\n",
    "  \n",
    "  img_array=np.array(img)\n",
    "  img_array=img_array.astype('float32')\n",
    "  img_array/=255\n",
    "  img_array=np.expand_dims(img_array,axis=0)\n",
    "\n",
    "  #print(img_array.shape)\n",
    "  \n",
    "  interpreter.set_tensor(input_details[0]['index'], img_array)\n",
    "  interpreter.invoke()\n",
    "  output_data = interpreter.get_tensor(output_details[0]['index'])\n",
    "  confidence = interpreter.get_tensor(output_details[1]['index'])\n",
    "  LR=interpreter.get_tensor(output_details[2]['index'])\n",
    "\n",
    "  Show_frame(img,output_data[0])\n",
    "\n",
    "  img=cv2.resize(img,(640,480))\n",
    "  img = cv2.cvtColor(cv2.flip(img, 1), cv2.COLOR_RGB2BGR)\n",
    "  cv2.imshow('MediaPipe Hands', img)\n",
    "\n",
    "  if cv2.waitKey(100) & 0xFF == 27: # 按下 esc 退出\n",
    "    break\n",
    "\n",
    "  dt=time.time()-t_start\n",
    "  print('FPS: ',1/dt,'confidence:',confidence,'L or R:',LR)\n",
    "cap.release()"
   ]
  },
  {
   "cell_type": "code",
   "execution_count": null,
   "metadata": {},
   "outputs": [],
   "source": [
    "cap = cv2.VideoCapture(0)\n",
    "\n",
    "while cap.isOpened():\n",
    "\n",
    "  t_start=time.time()\n",
    "\n",
    "  success, img = cap.read()\n",
    "  if not success:\n",
    "    print(\"Ignoring empty camera frame.\")\n",
    "    continue\n",
    "\n",
    "  print(img.shape)\n",
    "  cv2.imshow('MediaPipe Hands', img)\n",
    "\n",
    "  if cv2.waitKey(100) & 0xFF == 27: # 按下 esc 退出\n",
    "    break\n",
    "\n",
    "  dt=time.time()-t_start\n",
    "cap.release()"
   ]
  },
  {
   "cell_type": "code",
   "execution_count": null,
   "metadata": {},
   "outputs": [],
   "source": []
  }
 ],
 "metadata": {
  "interpreter": {
   "hash": "57baa5815c940fdaff4d14510622de9616cae602444507ba5d0b6727c008cbd6"
  },
  "kernelspec": {
   "display_name": "Python 3.7.8 64-bit",
   "name": "python3"
  },
  "language_info": {
   "codemirror_mode": {
    "name": "ipython",
    "version": 3
   },
   "file_extension": ".py",
   "mimetype": "text/x-python",
   "name": "python",
   "nbconvert_exporter": "python",
   "pygments_lexer": "ipython3",
   "version": "3.7.8"
  },
  "orig_nbformat": 4
 },
 "nbformat": 4,
 "nbformat_minor": 2
}
