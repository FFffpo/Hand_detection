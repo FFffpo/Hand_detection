{
 "cells": [
  {
   "cell_type": "code",
   "execution_count": null,
   "metadata": {},
   "outputs": [],
   "source": [
    "import torch\n",
    "from torchvision import transforms\n",
    "from torchvision import datasets\n",
    "from torch.utils.data import DataLoader,Dataset\n",
    "import torch.optim as optim\n",
    "import torch.nn.functional as F \n",
    "import os\n",
    "import numpy as np"
   ]
  },
  {
   "cell_type": "code",
   "execution_count": null,
   "metadata": {},
   "outputs": [],
   "source": [
    "class HandGestureDataset(Dataset):\n",
    "    def __init__(self,filepath):\n",
    "        xy=np.loadtxt(filepath,delimiter=',',dtype=np.float32)\n",
    "        self.len=xy.shape[0]\n",
    "        self.x_data=torch.from_numpy(xy[:,:-1])\n",
    "        self.y_data=torch.from_numpy(xy[:,[-1]]).long()\n",
    "\n",
    "    def __getitem__(self, index):\n",
    "        return self.x_data[index],self.y_data[index]\n",
    "\n",
    "    def __len__(self):\n",
    "        return self.len\n",
    "\n",
    "Training_set=HandGestureDataset('data\\Training_set\\Training_set_Label.csv')\n",
    "train_loader=DataLoader(dataset=Training_set,shuffle=1,num_workers=0)\n",
    "\n",
    "Test_set=HandGestureDataset('data\\Test_set\\Test_set_Label.csv')\n",
    "test_loader=DataLoader(dataset=Test_set,batch_size=32,shuffle=1,num_workers=0)"
   ]
  },
  {
   "cell_type": "code",
   "execution_count": null,
   "metadata": {},
   "outputs": [],
   "source": [
    "class Net(torch.nn.Module):\n",
    "    def __init__(self):\n",
    "        super(Net,self).__init__()\n",
    "        self.l1=torch.nn.Linear(63,21)\n",
    "        self.l2=torch.nn.Linear(21,5)\n",
    "        self.l3=torch.nn.Linear(5,3)\n",
    "        self.sigmoid=torch.nn.Sigmoid()\n",
    "\n",
    "    def forward(self,x):\n",
    "        x=self.sigmoid(self.l1(x))\n",
    "        x=self.sigmoid(self.l2(x))\n",
    "        return self.l3(x)\n",
    "\n",
    "\n",
    "model=Net()"
   ]
  },
  {
   "cell_type": "code",
   "execution_count": null,
   "metadata": {},
   "outputs": [],
   "source": [
    "criterion=torch.nn.CrossEntropyLoss()\n",
    "optimizer=optim.SGD(model.parameters(),lr=0.005)"
   ]
  },
  {
   "cell_type": "code",
   "execution_count": null,
   "metadata": {},
   "outputs": [],
   "source": [
    "def train(epoch):\n",
    "    running_loss=0.0\n",
    "    for batch_idx, data in enumerate(train_loader,0):\n",
    "        inputs,target=data\n",
    "        target=target.squeeze(0)\n",
    "\n",
    "        optimizer.zero_grad()\n",
    "\n",
    "        outputs=model(inputs)\n",
    "        loss=criterion(outputs,target)\n",
    "        loss.backward()\n",
    "        optimizer.step()\n",
    "\n",
    "        running_loss+=loss.item()\n",
    "\n",
    "        if batch_idx % 40==39:\n",
    "            print('[%d, %5d] loss: %.3f'%(epoch+1,batch_idx+1,running_loss))\n",
    "            running_loss=0\n",
    "def test():\n",
    "    correct=0\n",
    "    total=0\n",
    "    with torch.no_grad():\n",
    "        for data in test_loader:\n",
    "            inputs,labels=data\n",
    "            \n",
    "            outputs=model(inputs)\n",
    "            _,predicted=torch.max(outputs.data,dim=1)\n",
    "            total+=labels.size(0)\n",
    "            correct+=(predicted==labels.squeeze()).sum().item()\n",
    "    \n",
    "    print('Accuracy on test set: %d %%'%(100*correct/total))\n",
    "    "
   ]
  },
  {
   "cell_type": "code",
   "execution_count": null,
   "metadata": {},
   "outputs": [],
   "source": [
    "if __name__=='__main__':\n",
    "    for epoch in range(350):\n",
    "        train(epoch)\n",
    "        \n",
    "        test()\n",
    "        "
   ]
  },
  {
   "cell_type": "code",
   "execution_count": null,
   "metadata": {},
   "outputs": [],
   "source": [
    "torch.save(model,f='model.pkl') "
   ]
  },
  {
   "cell_type": "code",
   "execution_count": null,
   "metadata": {},
   "outputs": [],
   "source": []
  }
 ],
 "metadata": {
  "interpreter": {
   "hash": "57baa5815c940fdaff4d14510622de9616cae602444507ba5d0b6727c008cbd6"
  },
  "kernelspec": {
   "display_name": "Python 3.7.8 64-bit",
   "name": "python3"
  },
  "language_info": {
   "codemirror_mode": {
    "name": "ipython",
    "version": 3
   },
   "file_extension": ".py",
   "mimetype": "text/x-python",
   "name": "python",
   "nbconvert_exporter": "python",
   "pygments_lexer": "ipython3",
   "version": "3.7.8"
  },
  "orig_nbformat": 4
 },
 "nbformat": 4,
 "nbformat_minor": 2
}
