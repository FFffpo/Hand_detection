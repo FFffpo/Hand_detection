{
 "cells": [
  {
   "cell_type": "code",
   "execution_count": null,
   "source": [
    "import socket\r\n",
    "import time\r\n",
    "import cv2\r\n",
    "import numpy\r\n",
    "\r\n",
    "import mediapipe as mp\r\n",
    "mp_drawing = mp.solutions.drawing_utils\r\n",
    "mp_drawing_styles = mp.solutions.drawing_styles\r\n",
    "mp_hands = mp.solutions.hands"
   ],
   "outputs": [],
   "metadata": {}
  },
  {
   "cell_type": "code",
   "execution_count": null,
   "source": [
    "def Init(s):\r\n",
    "    s.bind(address)\r\n",
    "\r\n",
    "def Connect(s):\r\n",
    "    s.listen(1)\r\n",
    "    conn, addr = s.accept()\r\n",
    "    print('connect from:'+str(addr))\r\n",
    "\r\n",
    "    return conn\r\n",
    "\r\n",
    "def recvall(sock, count):\r\n",
    "    buf = b'' # buf是一个byte类型\r\n",
    "    while count:\r\n",
    "        # 接受TCP套接字的数据，数据以字符串形式返回，count指定要接收的最大数据量\r\n",
    "        newbuf = sock.recv(count)\r\n",
    "        if not newbuf: return None\r\n",
    "        buf += newbuf\r\n",
    "        count -= len(newbuf)\r\n",
    "    return buf\r\n",
    "\r\n",
    "\r\n",
    "def ReceiveVideo(conn):\r\n",
    "    \r\n",
    "    start = time.time() # 用于计算帧率信息\r\n",
    "    length = recvall(conn,16) # 获得图片文件的长度,16代表获取长度\r\n",
    "    stringData = recvall(conn, int(length)) # 根据获得的文件长度，获取图片文件\r\n",
    "    data = numpy.frombuffer(stringData, numpy.uint8) # 将获取到的字符流数据转换成1维数组\r\n",
    "    decimg=cv2.imdecode(data,cv2.IMREAD_COLOR) # 将数组解码成图像\r\n",
    "\r\n",
    "    if Detection_Flag:\r\n",
    "        with mp_hands.Hands(min_detection_confidence=0.5, min_tracking_confidence=0.5) as hands:\r\n",
    "            #image = cv2.flip(cv2.imread(\"./test.jpg\"), 1)\r\n",
    "            image=decimg\r\n",
    "            results = hands.process(cv2.cvtColor(image, cv2.COLOR_BGR2RGB))\r\n",
    "\r\n",
    "            print('Handedness:', results.multi_handedness)\r\n",
    "            if results.multi_hand_landmarks:\r\n",
    "                image_height, image_width, _ = image.shape\r\n",
    "                #annotated_image = image.copy()\r\n",
    "                for hand_landmarks in results.multi_hand_landmarks:\r\n",
    "                    print('hand_landmarks:', hand_landmarks)\r\n",
    "                    print(f'Index finger tip coordinates: (',\r\n",
    "                        f'{hand_landmarks.landmark[mp_hands.HandLandmark.INDEX_FINGER_TIP].x * image_width}, '\r\n",
    "                        f'{hand_landmarks.landmark[mp_hands.HandLandmark.INDEX_FINGER_TIP].y * image_height})')\r\n",
    "                    mp_drawing.draw_landmarks(\r\n",
    "                        image,\r\n",
    "                        hand_landmarks,\r\n",
    "                        mp_hands.HAND_CONNECTIONS,\r\n",
    "                        mp_drawing_styles.get_default_hand_landmarks_style(),\r\n",
    "                        mp_drawing_styles.get_default_hand_connections_style())\r\n",
    "            cv2.imwrite(\"./test.jpg\", cv2.flip(image, 1))\r\n",
    "            cv2.imshow('MediaPipe Hands', image)\r\n",
    "\r\n",
    "    else:\r\n",
    "        cv2.imwrite(\"./test.jpg\",decimg)\r\n",
    "        cv2.imshow('SERVER',image) # 显示图像\r\n",
    "\r\n",
    "    end = time.time()\r\n",
    "    seconds = end - start\r\n",
    "    fps  = 1/seconds\r\n",
    "    conn.send(bytes(str(int(fps)),encoding='utf-8'))\r\n"
   ],
   "outputs": [],
   "metadata": {}
  },
  {
   "cell_type": "code",
   "execution_count": null,
   "source": [
    "if __name__ == '__main__':\r\n",
    "\r\n",
    "    address = ('192.168.1.14', 8001)\r\n",
    "    s = socket.socket(socket.AF_INET, socket.SOCK_STREAM)\r\n",
    "\r\n",
    "    Detection_Flag=1\r\n",
    "\r\n",
    "    Init(s)\r\n",
    "    conn=Connect(s)\r\n",
    "\r\n",
    "    while True:\r\n",
    "        ReceiveVideo(conn)\r\n",
    "\r\n",
    "        if cv2.waitKey(10) == 27: \r\n",
    "            break\r\n",
    "            s.close()"
   ],
   "outputs": [],
   "metadata": {}
  }
 ],
 "metadata": {
  "orig_nbformat": 4,
  "language_info": {
   "name": "python",
   "version": "3.7.8",
   "mimetype": "text/x-python",
   "codemirror_mode": {
    "name": "ipython",
    "version": 3
   },
   "pygments_lexer": "ipython3",
   "nbconvert_exporter": "python",
   "file_extension": ".py"
  },
  "kernelspec": {
   "name": "python3",
   "display_name": "Python 3.7.8 64-bit"
  },
  "interpreter": {
   "hash": "57baa5815c940fdaff4d14510622de9616cae602444507ba5d0b6727c008cbd6"
  }
 },
 "nbformat": 4,
 "nbformat_minor": 2
}