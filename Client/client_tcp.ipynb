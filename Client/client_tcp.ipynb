{
 "cells": [
  {
   "cell_type": "code",
   "execution_count": 1,
   "metadata": {},
   "outputs": [
    {
     "data": {
      "application/javascript": "\ntry {\nrequire(['notebook/js/codecell'], function(codecell) {\n  codecell.CodeCell.options_default.highlight_modes[\n      'magic_text/x-csrc'] = {'reg':[/^%%microblaze/]};\n  Jupyter.notebook.events.one('kernel_ready.Kernel', function(){\n      Jupyter.notebook.get_cells().map(function(cell){\n          if (cell.cell_type == 'code'){ cell.auto_highlight(); } }) ;\n  });\n});\n} catch (e) {};\n"
     },
     "metadata": {},
     "output_type": "display_data"
    },
    {
     "data": {
      "application/javascript": "\ntry {\nrequire(['notebook/js/codecell'], function(codecell) {\n  codecell.CodeCell.options_default.highlight_modes[\n      'magic_text/x-csrc'] = {'reg':[/^%%pybind11/]};\n  Jupyter.notebook.events.one('kernel_ready.Kernel', function(){\n      Jupyter.notebook.get_cells().map(function(cell){\n          if (cell.cell_type == 'code'){ cell.auto_highlight(); } }) ;\n  });\n});\n} catch (e) {};\n"
     },
     "metadata": {},
     "output_type": "display_data"
    },
    {
     "data": {
      "text/plain": [
       "<contextlib._GeneratorContextManager at 0xa50782d0>"
      ]
     },
     "execution_count": 1,
     "metadata": {},
     "output_type": "execute_result"
    }
   ],
   "source": [
    "# author: Zhifei Wang, 11.14, 2021\n",
    "\n",
    "import socket\n",
    "import cv2\n",
    "import numpy as np\n",
    "import time\n",
    "import sys \n",
    "\n",
    "# HDMI out\n",
    "from pynq.overlays.base import BaseOverlay\n",
    "from pynq.lib.video import *\n",
    "\n",
    "base = BaseOverlay(\"base.bit\")\n",
    "hdmi_out = base.video.hdmi_out\n",
    "Mode = VideoMode(640,480,24)\n",
    "hdmi_out.configure(Mode,PIXEL_BGR)"
   ]
  },
  {
   "cell_type": "code",
   "execution_count": 2,
   "metadata": {},
   "outputs": [],
   "source": [
    "def Connect(sock):\n",
    "    try:\n",
    "        sock.connect(address)\n",
    "    except socket.error as msg:\n",
    "        print(msg)\n",
    "\n",
    "def recvall(sock, count):\n",
    "    buf = b''\n",
    "    while count:\n",
    "        newbuf = sock.recv(count)\n",
    "        if not newbuf: return None\n",
    "        buf += newbuf\n",
    "        count -= len(newbuf)\n",
    "    return buf\n",
    "\n",
    "def SendVideo(frame,sock):\n",
    "\n",
    "    result, imgencode = cv2.imencode('.jpg', frame, encode_param)\n",
    "    \n",
    "    data = np.array(imgencode)\n",
    "    stringData = data.tostring()\n",
    "\n",
    "    sock.send(str.encode(str(len(stringData)).ljust(16)))\n",
    "    sock.send(stringData)\n",
    "\n",
    "    time.sleep(0.05)\n",
    "    \n",
    "    length = recvall(sock,16)\n",
    "    receive = recvall(sock, int(length))\n",
    "    #receive = sock.recv(1024)\n",
    "    data = np.frombuffer(receive, np.uint32)\n",
    "    if len(data): \n",
    "        # print(str(data))\n",
    "        return data\n",
    "    \n"
   ]
  },
  {
   "cell_type": "code",
   "execution_count": null,
   "metadata": {},
   "outputs": [],
   "source": [
    "if __name__ == '__main__':\n",
    "\n",
    "    address = ('192.168.137.1', 8001)\n",
    "    sock = socket.socket(socket.AF_INET,socket.SOCK_STREAM)\n",
    "    \n",
    "    # img encode param\n",
    "    encode_param=[int(cv2.IMWRITE_JPEG_QUALITY),15] \n",
    "\n",
    "    conn=Connect(sock)\n",
    "    \n",
    "    capture = cv2.VideoCapture(0)\n",
    "    \n",
    "    hdmi_out.start()\n",
    "    \n",
    "    board=np.ones((480,640),np.uint8)\n",
    "    board*=255\n",
    "    \n",
    "    last_point=[]\n",
    "    currunt_point=[]\n",
    "    \n",
    "    ret, frame = capture.read()\n",
    "    \n",
    "    while ret:\n",
    "        ret, frame = capture.read()\n",
    "        \n",
    "        data=SendVideo(frame,sock)\n",
    "        \n",
    "        if (data[0]==0): # write\n",
    "            cv2.putText(frame, 'Writing', (10, 30),cv2.FONT_HERSHEY_COMPLEX,1,(0, 255, 0),1,4)\n",
    "            currunt_point = (data[1],data[2])\n",
    "            if (last_point):\n",
    "                cv2.line(board, last_point, currunt_point, (0), 4, 4)\n",
    "                last_point=currunt_point\n",
    "            else:\n",
    "                last_point=currunt_point\n",
    "                \n",
    "        elif(data[0]==1): # erase\n",
    "            cv2.putText(frame, 'Erasing', (10, 30),cv2.FONT_HERSHEY_COMPLEX,1,(0, 255, 0),1,4)\n",
    "            cv2.rectangle(frame, (data[1],data[2]), (data[3],data[4]), (255,0,0),4)\n",
    "            \n",
    "            board[data[2]:data[4],data[3]:data[1]]=np.logical_or(board[data[2]:data[4],data[3]:data[1]],1)*255\n",
    "            #print('y1:',data[2],'y2:',data[4],'x1:',data[1],'x2:',data[3])\n",
    "            last_point=[]\n",
    "            \n",
    "        else: # without hands\n",
    "            cv2.putText(frame, 'No hands', (10, 30),cv2.FONT_HERSHEY_COMPLEX,1,(255, 0, 0),1,4)\n",
    "            last_point=[]\n",
    "            \n",
    "        frame=cv2.bitwise_and(frame, frame,mask=board)\n",
    "        \n",
    "        outframe = hdmi_out.newframe()\n",
    "        outframe[0:480,0:640,:] = frame[0:480,640::-1,:]\n",
    "        hdmi_out.writeframe(outframe)\n",
    "        \n",
    "        if cv2.waitKey(10) == 27: \n",
    "            break\n",
    "            sock.close()"
   ]
  },
  {
   "cell_type": "code",
   "execution_count": null,
   "metadata": {},
   "outputs": [],
   "source": []
  }
 ],
 "metadata": {
  "kernelspec": {
   "display_name": "Python 3",
   "language": "python",
   "name": "python3"
  },
  "language_info": {
   "codemirror_mode": {
    "name": "ipython",
    "version": 3
   },
   "file_extension": ".py",
   "mimetype": "text/x-python",
   "name": "python",
   "nbconvert_exporter": "python",
   "pygments_lexer": "ipython3",
   "version": "3.6.5"
  }
 },
 "nbformat": 4,
 "nbformat_minor": 2
}
