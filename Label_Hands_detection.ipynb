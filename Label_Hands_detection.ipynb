{
 "cells": [
  {
   "cell_type": "code",
   "execution_count": 1,
   "source": [
    "import cv2\r\n",
    "import mediapipe as mp\r\n",
    "\r\n",
    "mp_drawing = mp.solutions.drawing_utils\r\n",
    "mp_drawing_styles = mp.solutions.drawing_styles\r\n",
    "mp_hands = mp.solutions.hands"
   ],
   "outputs": [],
   "metadata": {}
  },
  {
   "cell_type": "code",
   "execution_count": 6,
   "source": [
    "# data/Original 存放原始数据\r\n",
    "# data/Original/Training 训练集\r\n",
    "# data/Original/Test 测试集\r\n",
    "\r\n",
    "# data/Training_set 存放训练集，Training_set.csv为最终数据，前63列为21个三维骨骼坐标，64列为标记\r\n",
    "# data/Test_set 存放训练集，Test_set.csv为最终数据，前63列为21个三维骨骼坐标，64列为标记\r\n",
    "\r\n",
    "# label 0 for pencil down/ 1 for pencil up, 61 for training set/ 11 for test set\r\n",
    "\r\n",
    "# txt->json->csv\r\n",
    "\r\n",
    "txt_folder='data/Original/Test/Pencil_up/txt/'\r\n",
    "json_folder='data/Original/Test/Pencil_up/json/'\r\n",
    "csv_folder='data/Original/Test/Pencil_up/csv/'\r\n",
    "\r\n",
    "idx=0"
   ],
   "outputs": [],
   "metadata": {}
  },
  {
   "cell_type": "code",
   "execution_count": 8,
   "source": [
    "cap = cv2.VideoCapture(0)\r\n",
    "\r\n",
    "with mp_hands.Hands(min_detection_confidence=0.5, min_tracking_confidence=0.5, max_num_hands=1) as hands:\r\n",
    "  while cap.isOpened():\r\n",
    "    success, image = cap.read()\r\n",
    "    if not success:\r\n",
    "      print(\"Ignoring empty camera frame.\")\r\n",
    "      # If loading a video, use 'break' instead of 'continue'.\r\n",
    "      continue\r\n",
    "\r\n",
    "    # Flip the image horizontally for a later selfie-view display, and convert the BGR image to RGB.\r\n",
    "    image = cv2.cvtColor(cv2.flip(image, 1), cv2.COLOR_BGR2RGB)\r\n",
    "    # To improve performance, optionally mark the image as not writeable to pass by reference.\r\n",
    "    image.flags.writeable = False\r\n",
    "    results = hands.process(image)\r\n",
    "\r\n",
    "    # Draw the hand annotations on the image.\r\n",
    "    image.flags.writeable = True\r\n",
    "    image = cv2.cvtColor(image, cv2.COLOR_RGB2BGR)\r\n",
    "    if results.multi_hand_landmarks:\r\n",
    "      for hand_landmarks in results.multi_hand_landmarks:\r\n",
    "        mp_drawing.draw_landmarks(\r\n",
    "            image,\r\n",
    "            hand_landmarks,\r\n",
    "            mp_hands.HAND_CONNECTIONS,\r\n",
    "            mp_drawing_styles.get_default_hand_landmarks_style(),\r\n",
    "            mp_drawing_styles.get_default_hand_connections_style())\r\n",
    "        \r\n",
    "        if cv2.waitKey(100) & 0xFF == ord('b'): # 按下 b 键进行一次捕获\r\n",
    "          with open(txt_folder+str(idx)+'.txt','w') as f:\r\n",
    "            print(hand_landmarks,file=f)\r\n",
    "            print(idx)\r\n",
    "            idx+=1\r\n",
    "\r\n",
    "    cv2.imshow('MediaPipe Hands', image)\r\n",
    "    if cv2.waitKey(100) & 0xFF == 27: # 按下 esc 退出\r\n",
    "      break\r\n",
    "cap.release()"
   ],
   "outputs": [
    {
     "output_type": "stream",
     "name": "stdout",
     "text": [
      "0\n",
      "1\n",
      "2\n",
      "3\n",
      "4\n",
      "5\n",
      "6\n",
      "7\n",
      "8\n",
      "9\n",
      "10\n"
     ]
    }
   ],
   "metadata": {}
  },
  {
   "cell_type": "code",
   "execution_count": 3,
   "source": [
    "import json\r\n",
    "import pandas as pd\r\n",
    "from os import listdir\r\n",
    "import re\r\n",
    "import time\r\n",
    "import numpy as np\r\n",
    "\r\n",
    "def StandardScaler(x):\r\n",
    "    '''数据标准化，且以21个骨骼点的第一个为原点'''\r\n",
    "    x_array=np.array(x)\r\n",
    "    x_array-=x_array[0]\r\n",
    "\r\n",
    "    mean=np.mean(x_array)\r\n",
    "    std=np.std(x_array)\r\n",
    "\r\n",
    "    x_array-=mean\r\n",
    "    x_array/=std\r\n",
    "\r\n",
    "    x_corr=x_array.tolist()\r\n",
    "\r\n",
    "    return x_corr\r\n",
    "\r\n",
    "\r\n",
    "\r\n",
    "seq = re.compile(\":\")\r\n",
    "\r\n",
    "t=time.time()\r\n",
    "\r\n",
    "# txt->json\r\n",
    "for file in listdir(txt_folder):\r\n",
    "    result = []\r\n",
    "    with open(txt_folder+file) as f:\r\n",
    "        for line in f:\r\n",
    "            lst = seq.split(line.strip())\r\n",
    "            if (len(lst)>=2): \r\n",
    "                item = {str(lst[0]): float(lst[1])}\r\n",
    "                result.append(item)    \r\n",
    "\r\n",
    "    with open(json_folder+file[:-3]+'json', 'w') as dump_f:\r\n",
    "        json.dump(result,dump_f)\r\n",
    "    \r\n",
    "# json->csv\r\n",
    "for file in listdir(json_folder):\r\n",
    "    with open(json_folder+file) as f:\r\n",
    "        data = json.load(f)\r\n",
    "        x = []\r\n",
    "        y = []\r\n",
    "        z = []\r\n",
    "        xyz=[]\r\n",
    "        for pt in data:\r\n",
    "            if 'x' in pt: x.append(pt['x'])\r\n",
    "            if 'y' in pt: y.append(pt['y'])\r\n",
    "            if 'z' in pt: z.append(pt['z'])\r\n",
    "        \r\n",
    "        # 数据标准化\r\n",
    "        x=StandardScaler(x)\r\n",
    "        y=StandardScaler(y)\r\n",
    "        z=StandardScaler(z)\r\n",
    "\r\n",
    "        xyz=x+y+z # 将21*3=63个值排成一列，便于下一步训练\r\n",
    "\r\n",
    "    df = pd.DataFrame(data=xyz)\r\n",
    "    df.to_csv(csv_folder+file[:-4]+'csv')\r\n",
    "\r\n",
    "print(time.time()-t)\r\n",
    "\r\n"
   ],
   "outputs": [
    {
     "output_type": "stream",
     "name": "stdout",
     "text": [
      "0.11936092376708984\n"
     ]
    }
   ],
   "metadata": {}
  },
  {
   "cell_type": "code",
   "execution_count": 7,
   "source": [
    "import numpy as np\r\n",
    "import csv\r\n",
    "from os import listdir\r\n",
    "import pandas as pd\r\n",
    "\r\n",
    "data=np.zeros((1,63)) # 存储最终结果\r\n",
    "\r\n",
    "for file in listdir(csv_folder):\r\n",
    "    cur_data=[]\r\n",
    "    with open(csv_folder+file,'r',newline='') as csvfile:\r\n",
    "        reader=csv.reader(csvfile)\r\n",
    "        for row in reader:\r\n",
    "            cur_data.append(row)\r\n",
    "\r\n",
    "    arr_data=np.array(cur_data)\r\n",
    "    arr_data=np.delete(arr_data,0,axis=0) # 删去索引\r\n",
    "    arr_data=np.delete(arr_data,0,axis=1) # 删去索引\r\n",
    "\r\n",
    "    arr_data=arr_data.transpose()\r\n",
    "\r\n",
    "    data=np.row_stack((data,arr_data))\r\n",
    "\r\n",
    "data=np.delete(data,0,axis=0) # 删去索引\r\n",
    "\r\n",
    "labels=np.ones((11,1)) # label 0 for pencil down/ 1 for pencil up, 61 for training set/ 11 for test set\r\n",
    "\r\n",
    "data=np.column_stack((data,labels))\r\n",
    "\r\n",
    "df = pd.DataFrame(data=data)\r\n",
    "df.to_csv('test_pencil_up.csv',index=False) # 暂存于主路径，后续需要将up与down合在一起\r\n",
    "\r\n"
   ],
   "outputs": [],
   "metadata": {}
  },
  {
   "cell_type": "code",
   "execution_count": 18,
   "source": [
    "# test\r\n",
    "a=np.zeros((3,3))\r\n",
    "b=np.ones((1,3))\r\n",
    "\r\n",
    "\r\n",
    "np.row_stack((a,b))\r\n",
    "print(a)"
   ],
   "outputs": [
    {
     "output_type": "stream",
     "name": "stdout",
     "text": [
      "[[0. 0. 0.]\n",
      " [0. 0. 0.]\n",
      " [0. 0. 0.]]\n"
     ]
    }
   ],
   "metadata": {}
  }
 ],
 "metadata": {
  "orig_nbformat": 4,
  "language_info": {
   "name": "python",
   "version": "3.7.8",
   "mimetype": "text/x-python",
   "codemirror_mode": {
    "name": "ipython",
    "version": 3
   },
   "pygments_lexer": "ipython3",
   "nbconvert_exporter": "python",
   "file_extension": ".py"
  },
  "kernelspec": {
   "name": "python3",
   "display_name": "Python 3.7.8 64-bit"
  },
  "interpreter": {
   "hash": "57baa5815c940fdaff4d14510622de9616cae602444507ba5d0b6727c008cbd6"
  }
 },
 "nbformat": 4,
 "nbformat_minor": 2
}